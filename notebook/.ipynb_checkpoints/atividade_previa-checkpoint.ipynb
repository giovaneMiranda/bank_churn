{
 "cells": [
  {
   "cell_type": "markdown",
   "id": "8e084fff-ce50-44e1-97cc-b15755302646",
   "metadata": {},
   "source": [
    "# Atividade Previa - Analise Estatistica de Dados "
   ]
  },
  {
   "cell_type": "markdown",
   "id": "92bf9af3-645d-488c-a93c-47d5c8e9953f",
   "metadata": {},
   "source": [
    "## 1.0 Problema de Negocio "
   ]
  },
  {
   "cell_type": "markdown",
   "id": "170ebd2b-b9e2-4ed4-9d71-1ccae990ec93",
   "metadata": {},
   "source": [
    "Uma empresa que trabalha com aluguel de veículos deseja estudar algumas variáveis que eles suspeitam que influenciam no preço do aluguel do veículo. Para confirmar essas suspeitas, foi reunido em um conjunto dados um histórico contendo vinte locações que foram exportadas aleatoriamente do banco de dados, ou seja, temos vinte observações."
   ]
  },
  {
   "cell_type": "code",
   "execution_count": 53,
   "id": "55b27d80-91f1-4521-8392-5758952089b5",
   "metadata": {},
   "outputs": [],
   "source": [
    "import pandas as pd \n",
    "import matplotlib.pyplot as plt\n",
    "import scipy as misc\n",
    "from scipy import stats"
   ]
  },
  {
   "cell_type": "code",
   "execution_count": 13,
   "id": "6651a03c-ecf5-4040-8f3d-be54db067063",
   "metadata": {},
   "outputs": [],
   "source": [
    "dados_locacao = {'Preco' : [368.384514890573, 446.850186825816, \n",
    "          414.72765691978, 434.291090918223, 436.652686535348, 457.65797344255, \n",
    "          490.694346597566, 474.881781399868, 458.462395897205, 412.719412673294, \n",
    "          448.799032112411, 352.040747235864, 449.461858221104, 416.150953927119, \n",
    "          416.499426750268, 551.315803331779, 462.126789471159, 515.957335395508, \n",
    "          467.598697162974, 339.548470369391], \n",
    "'Portas' : [\"duas_portas\", \"quatro_portas\", \"duas_portas\", \"quatro_portas\", \"quatro_portas\", \n",
    "          \"duas_portas\", \"quatro_portas\", \"duas_portas\", \"quatro_portas\", \n",
    "          \"duas_portas\", \"quatro_portas\", \"quatro_portas\", \"duas_portas\", \n",
    "          \"quatro_portas\", \"duas_portas\", \"quatro_portas\", \"quatro_portas\", \n",
    "          \"duas_portas\", \"quatro_portas\", \"quatro_portas\"],\n",
    "'Ar_Condicionado' : [\"sem_ar_condicionado\",  \"com_ar_condicionado\", \"com_ar_condicionado\", \"com_ar_condicionado\", \n",
    "                  \"com_ar_condicionado\", \"com_ar_condicionado\", \"com_ar_condicionado\", \n",
    "                  \"com_ar_condicionado\", \"com_ar_condicionado\", \"com_ar_condicionado\", \n",
    "                  \"com_ar_condicionado\", \"sem_ar_condicionado\", \"com_ar_condicionado\", \n",
    "                  \"com_ar_condicionado\", \"com_ar_condicionado\", \"com_ar_condicionado\", \n",
    "                  \"com_ar_condicionado\", \"com_ar_condicionado\", \"com_ar_condicionado\", \n",
    "                  \"sem_ar_condicionado\"],\n",
    "'Quadrimestre' : [\"segundo_quadrimestre\",\"segundo_quadrimestre\", \"segundo_quadrimestre\", \"segundo_quadrimestre\", \n",
    "                 \"segundo_quadrimestre\", \"terceiro_quadrimestre\", \"primeiro_quadrimestre\", \n",
    "                 \"primeiro_quadrimestre\", \"terceiro_quadrimestre\", \"segundo_quadrimestre\", \n",
    "                 \"terceiro_quadrimestre\", \"segundo_quadrimestre\", \"terceiro_quadrimestre\", \n",
    "                 \"segundo_quadrimestre\", \"segundo_quadrimestre\", \"primeiro_quadrimestre\", \n",
    "                 \"terceiro_quadrimestre\", \"primeiro_quadrimestre\", \"primeiro_quadrimestre\", \n",
    "                 \"segundo_quadrimestre\"], \n",
    "'Idade_Locatario' : [23, 18, 28, 21, 18, 21, 18, 20, 25, 29, 18, 33, 20, 21, 18, 21, 18, 20, 25, 29],\n",
    "'Quilometragem' : [957.442780544097, 829.533278217768, 923.300215829467, 871.519116905113, 930.704105677958, 554.696695914233, 501.941059782271, \n",
    "                  665.435074822519, 568.24079543466, 930.704105677958, 554.696695914233, \n",
    "                  829.533278217768, 665.435074822519, 871.519116905113, 930.704105677958, \n",
    "                  351.547138218644, 501.941059782271, 447.872006186523, 568.24079543466, \n",
    "                  930.704105677958], \n",
    "'Dolar' : [4.41147933990862, 5.63014407874318, \n",
    "         8.80557934010615, 4.260591319988649, 6.93416279643155, 1.61130694543154, \n",
    "         2.57813244655973, 4.66666728709914, 1.6846066723224, 7.33872353619711, \n",
    "         4.52300814589177, 2.96689816205009, 9.91448182957733, 8.55577847959413, \n",
    "         5.93424935955983, 5.55775429484673, 6.94475470863839, 4.74330294976712, \n",
    "         4.723306965757987, 4.7010894862212]}"
   ]
  },
  {
   "cell_type": "code",
   "execution_count": 11,
   "id": "1ff410de-3c05-4c8a-a0bc-2a154df8beaa",
   "metadata": {
    "tags": []
   },
   "outputs": [
    {
     "data": {
      "text/html": [
       "<div>\n",
       "<style scoped>\n",
       "    .dataframe tbody tr th:only-of-type {\n",
       "        vertical-align: middle;\n",
       "    }\n",
       "\n",
       "    .dataframe tbody tr th {\n",
       "        vertical-align: top;\n",
       "    }\n",
       "\n",
       "    .dataframe thead th {\n",
       "        text-align: right;\n",
       "    }\n",
       "</style>\n",
       "<table border=\"1\" class=\"dataframe\">\n",
       "  <thead>\n",
       "    <tr style=\"text-align: right;\">\n",
       "      <th></th>\n",
       "      <th>Preco</th>\n",
       "      <th>Portas</th>\n",
       "      <th>Ar_Condicionado</th>\n",
       "      <th>Quadrimestre</th>\n",
       "      <th>Idade_Locatario</th>\n",
       "      <th>Quilometragem</th>\n",
       "      <th>Dolar</th>\n",
       "    </tr>\n",
       "  </thead>\n",
       "  <tbody>\n",
       "    <tr>\n",
       "      <th>0</th>\n",
       "      <td>368.384515</td>\n",
       "      <td>duas_portas</td>\n",
       "      <td>sem_ar_condicionado</td>\n",
       "      <td>segundo_quadrimestre</td>\n",
       "      <td>23</td>\n",
       "      <td>957.442781</td>\n",
       "      <td>4.411479</td>\n",
       "    </tr>\n",
       "    <tr>\n",
       "      <th>1</th>\n",
       "      <td>446.850187</td>\n",
       "      <td>quatro_portas</td>\n",
       "      <td>com_ar_condicionado</td>\n",
       "      <td>segundo_quadrimestre</td>\n",
       "      <td>18</td>\n",
       "      <td>829.533278</td>\n",
       "      <td>5.630144</td>\n",
       "    </tr>\n",
       "    <tr>\n",
       "      <th>2</th>\n",
       "      <td>414.727657</td>\n",
       "      <td>duas_portas</td>\n",
       "      <td>com_ar_condicionado</td>\n",
       "      <td>segundo_quadrimestre</td>\n",
       "      <td>28</td>\n",
       "      <td>923.300216</td>\n",
       "      <td>8.805579</td>\n",
       "    </tr>\n",
       "    <tr>\n",
       "      <th>3</th>\n",
       "      <td>434.291091</td>\n",
       "      <td>quatro_portas</td>\n",
       "      <td>com_ar_condicionado</td>\n",
       "      <td>segundo_quadrimestre</td>\n",
       "      <td>21</td>\n",
       "      <td>871.519117</td>\n",
       "      <td>4.260591</td>\n",
       "    </tr>\n",
       "    <tr>\n",
       "      <th>4</th>\n",
       "      <td>436.652687</td>\n",
       "      <td>quatro_portas</td>\n",
       "      <td>com_ar_condicionado</td>\n",
       "      <td>segundo_quadrimestre</td>\n",
       "      <td>18</td>\n",
       "      <td>930.704106</td>\n",
       "      <td>6.934163</td>\n",
       "    </tr>\n",
       "  </tbody>\n",
       "</table>\n",
       "</div>"
      ],
      "text/plain": [
       "        Preco         Portas      Ar_Condicionado          Quadrimestre  \\\n",
       "0  368.384515    duas_portas  sem_ar_condicionado  segundo_quadrimestre   \n",
       "1  446.850187  quatro_portas  com_ar_condicionado  segundo_quadrimestre   \n",
       "2  414.727657    duas_portas  com_ar_condicionado  segundo_quadrimestre   \n",
       "3  434.291091  quatro_portas  com_ar_condicionado  segundo_quadrimestre   \n",
       "4  436.652687  quatro_portas  com_ar_condicionado  segundo_quadrimestre   \n",
       "\n",
       "   Idade_Locatario  Quilometragem     Dolar  \n",
       "0               23     957.442781  4.411479  \n",
       "1               18     829.533278  5.630144  \n",
       "2               28     923.300216  8.805579  \n",
       "3               21     871.519117  4.260591  \n",
       "4               18     930.704106  6.934163  "
      ]
     },
     "execution_count": 11,
     "metadata": {},
     "output_type": "execute_result"
    }
   ],
   "source": [
    "df_locacao = pd.DataFrame(dados_locacao)\n",
    "df_locacao.head()"
   ]
  },
  {
   "cell_type": "markdown",
   "id": "493c2a34-105e-4bae-bf7f-2bacde5329c0",
   "metadata": {},
   "source": [
    "## 1.Explore a variável resposta, que é o Preço, e responda:"
   ]
  },
  {
   "cell_type": "markdown",
   "id": "30d284ec-ebe7-42c4-946d-b82fa7192377",
   "metadata": {},
   "source": [
    "### a)\tPelo histograma, você diria que a variável Preço segue uma distribuição normal? "
   ]
  },
  {
   "cell_type": "code",
   "execution_count": 18,
   "id": "f16dfe94-31bf-4370-af14-073bdcdfe564",
   "metadata": {},
   "outputs": [
    {
     "data": {
      "image/png": "[encoded data removed]",
      "text/plain": [
       "<Figure size 432x288 with 1 Axes>"
      ]
     },
     "metadata": {
      "needs_background": "light"
     },
     "output_type": "display_data"
    }
   ],
   "source": [
    "df_locacao['Preco'].hist()\n",
    "plt.show()"
   ]
  },
  {
   "cell_type": "markdown",
   "id": "be91db11-c747-4870-9a54-0a08f2373141",
   "metadata": {},
   "source": [
    "### b)\tPelo boxplot do Preço, você consegue visualizar algum outlier? Se sim, o que poderia ser esses outliers?"
   ]
  },
  {
   "cell_type": "code",
   "execution_count": 27,
   "id": "7e83a67f-5e36-4e9b-ab69-0166422a44b2",
   "metadata": {},
   "outputs": [
    {
     "data": {
      "image/png": "[encoded data removed]",
      "text/plain": [
       "<Figure size 432x288 with 1 Axes>"
      ]
     },
     "metadata": {
      "needs_background": "light"
     },
     "output_type": "display_data"
    }
   ],
   "source": [
    "plt.boxplot(df_locacao['Preco'])\n",
    "plt.show()"
   ]
  },
  {
   "cell_type": "code",
   "execution_count": 29,
   "id": "0ea11312-d686-4cbf-9079-3d822a8234ce",
   "metadata": {},
   "outputs": [
    {
     "data": {
      "text/plain": [
       "551.315803331779"
      ]
     },
     "execution_count": 29,
     "metadata": {},
     "output_type": "execute_result"
    }
   ],
   "source": [
    "df_locacao['Preco'].max()\n"
   ]
  },
  {
   "cell_type": "markdown",
   "id": "b0bdba1c-5d53-4f88-b1b3-30ce305c7f05",
   "metadata": {},
   "source": [
    "### c)\tQual é o valor mediano do Preço? Interprete-o."
   ]
  },
  {
   "cell_type": "code",
   "execution_count": 28,
   "id": "ad09216a-767c-4d5c-8c4a-500affe869bf",
   "metadata": {},
   "outputs": [
    {
     "data": {
      "text/plain": [
       "count     20.000000\n",
       "mean     440.741058\n",
       "std       51.071729\n",
       "min      339.548470\n",
       "25%      415.795130\n",
       "50%      447.824609\n",
       "75%      463.494766\n",
       "max      551.315803\n",
       "Name: Preco, dtype: float64"
      ]
     },
     "execution_count": 28,
     "metadata": {},
     "output_type": "execute_result"
    }
   ],
   "source": [
    "df_locacao['Preco'].describe()"
   ]
  },
  {
   "cell_type": "code",
   "execution_count": 30,
   "id": "70362ff5-961b-4d9e-b789-7ac2ddd4da8b",
   "metadata": {},
   "outputs": [
    {
     "data": {
      "text/plain": [
       "447.8246094691135"
      ]
     },
     "execution_count": 30,
     "metadata": {},
     "output_type": "execute_result"
    }
   ],
   "source": [
    "df_locacao['Preco'].median()"
   ]
  },
  {
   "cell_type": "markdown",
   "id": "e7abd036-b30d-4437-94f1-641a3b8af8ba",
   "metadata": {},
   "source": [
    "## 2. Explore a relação entre as variáveis Preço e Quadrimestre e responda:"
   ]
  },
  {
   "cell_type": "markdown",
   "id": "6366f17e-3f59-498b-a6fb-9bd8a36d1f13",
   "metadata": {},
   "source": [
    "### a)\tAtravés do boxplot, como o Preço se comporta em relação a cada Quadrimestre? "
   ]
  },
  {
   "cell_type": "code",
   "execution_count": 40,
   "id": "c1639d33-b96e-4580-be9f-41d151e89a8c",
   "metadata": {},
   "outputs": [
    {
     "data": {
      "image/png": "[encoded data removed]",
      "text/plain": [
       "<Figure size 432x288 with 1 Axes>"
      ]
     },
     "metadata": {
      "needs_background": "light"
     },
     "output_type": "display_data"
    }
   ],
   "source": [
    "df_locacao.boxplot(column= 'Preco', by = 'Quadrimestre')\n",
    "plt.xticks(rotation=45)\n",
    "plt.show()"
   ]
  },
  {
   "cell_type": "markdown",
   "id": "7aebd148-f218-4e96-9b01-04f1d0fd3d47",
   "metadata": {},
   "source": [
    "### b)\tAtravés de uma ANOVA, existe diferença significativa entre o Preço médio de pelo menos um Quadrimestre em relação aos outros? Como chegou a essa conclusão? Adote 95% de confiança na sua interpretação."
   ]
  },
  {
   "cell_type": "code",
   "execution_count": 49,
   "id": "574a5b09-405a-4a59-9b8e-f9a46630602f",
   "metadata": {},
   "outputs": [],
   "source": [
    "grupos = df_locacao['Quadrimestre'].unique()\n",
    "dc_locacao = {grupo: df_locacao['Preco'][df_locacao['Quadrimestre']==grupo] for grupo in grupos}"
   ]
  },
  {
   "cell_type": "code",
   "execution_count": 54,
   "id": "a1bfbbe6-77dc-47f4-842f-45209b96525e",
   "metadata": {},
   "outputs": [],
   "source": [
    "valor_f, valor_p = stats.f_oneway(dc_locacao['primeiro_quadrimestre'], \n",
    "                      dc_locacao['segundo_quadrimestre'], \n",
    "                      dc_locacao['terceiro_quadrimestre'])"
   ]
  },
  {
   "cell_type": "code",
   "execution_count": 62,
   "id": "66388c58-3121-4f11-b705-96db6ec0a2c1",
   "metadata": {},
   "outputs": [
    {
     "data": {
      "text/plain": [
       "0.00012590494540944483"
      ]
     },
     "execution_count": 62,
     "metadata": {},
     "output_type": "execute_result"
    }
   ],
   "source": [
    "valor_p"
   ]
  },
  {
   "cell_type": "markdown",
   "id": "914e2357-da06-41f1-bce6-851dc2ba637f",
   "metadata": {},
   "source": [
    "# 3. "
   ]
  },
  {
   "cell_type": "markdown",
   "id": "3261bdab-d3e5-4a30-8048-d6ad9b912dff",
   "metadata": {},
   "source": [
    "### a)\tAtravés de um teste t de Student para amostras independentes, existe diferença significativa entre o preço médio do aluguel do veículo com duas portas quando comparado com o preço médio do veículo de quatro portas? Adote 95% de confiança ao realizar na sua interpretação."
   ]
  },
  {
   "cell_type": "code",
   "execution_count": 63,
   "id": "ee894b2f-a3de-43bc-ac37-580926163d91",
   "metadata": {
    "tags": []
   },
   "outputs": [
    {
     "data": {
      "image/png": "[encoded data removed]",
      "text/plain": [
       "<Figure size 432x288 with 1 Axes>"
      ]
     },
     "metadata": {
      "needs_background": "light"
     },
     "output_type": "display_data"
    }
   ],
   "source": [
    "df_locacao.boxplot(column= 'Preco', by = 'Portas')\n",
    "plt.xticks(rotation=45)\n",
    "plt.show()"
   ]
  },
  {
   "cell_type": "code",
   "execution_count": 66,
   "id": "b25889e2-3aa2-4900-9e77-03abdbb29cc1",
   "metadata": {},
   "outputs": [],
   "source": [
    "duas_portas = list(df_locacao.query('Portas == \"duas_portas\"')['Preco'])\n",
    "quartro_portas = list(df_locacao.query('Portas == \"quatro_portas\"')['Preco'])"
   ]
  },
  {
   "cell_type": "code",
   "execution_count": 68,
   "id": "f140b895-1c35-40ef-8eff-0bdb6d0f13a9",
   "metadata": {},
   "outputs": [],
   "source": [
    "valor_t, valor_p = stats.ttest_ind(duas_portas,quartro_portas)"
   ]
  },
  {
   "cell_type": "code",
   "execution_count": 69,
   "id": "e94540c9-06a7-424b-b7a3-2851e211d2e8",
   "metadata": {},
   "outputs": [
    {
     "data": {
      "text/plain": [
       "0.8932482377048808"
      ]
     },
     "execution_count": 69,
     "metadata": {},
     "output_type": "execute_result"
    }
   ],
   "source": [
    "valor_p"
   ]
  },
  {
   "cell_type": "markdown",
   "id": "37326a4f-8661-4427-b36b-8f6f583fcaa9",
   "metadata": {},
   "source": [
    "# 4  "
   ]
  },
  {
   "cell_type": "markdown",
   "id": "d4e598df-49ca-4034-90c1-d4ba404382c1",
   "metadata": {},
   "source": [
    "### a)\tPelo gráfico de dispersão, você identifica que existe relação entre o Preço e a Quilometragem? Se sim, a relação é positiva ou negativa? "
   ]
  },
  {
   "cell_type": "code",
   "execution_count": 73,
   "id": "ed46bd5d-06a9-4c50-afaf-803e36cae60a",
   "metadata": {},
   "outputs": [
    {
     "data": {
      "image/png": "[encoded data removed]",
      "text/plain": [
       "<Figure size 432x288 with 1 Axes>"
      ]
     },
     "metadata": {
      "needs_background": "light"
     },
     "output_type": "display_data"
    }
   ],
   "source": [
    "df_locacao.plot(x = 'Quilometragem', y = 'Preco', kind = 'scatter' )\n",
    "plt.show()"
   ]
  },
  {
   "cell_type": "markdown",
   "id": "ce208b30-4d6f-495e-beb3-83322764115f",
   "metadata": {},
   "source": [
    "### b)\tObtenha o valor do coeficiente de correlação linear de Pearson entre o Preço e a Quilometragem e interprete-o"
   ]
  },
  {
   "cell_type": "code",
   "execution_count": 76,
   "id": "4999755e-5c52-47d6-9396-22958a083890",
   "metadata": {},
   "outputs": [],
   "source": [
    "correlacao, _  = stats.pearsonr(df_locacao['Preco'], df_locacao['Quilometragem'])"
   ]
  },
  {
   "cell_type": "code",
   "execution_count": 77,
   "id": "b1fa2b03-2960-4387-a6b6-a30d8b560769",
   "metadata": {},
   "outputs": [
    {
     "data": {
      "text/plain": [
       "-0.823156087216225"
      ]
     },
     "execution_count": 77,
     "metadata": {},
     "output_type": "execute_result"
    }
   ],
   "source": [
    "correlacao"
   ]
  },
  {
   "cell_type": "markdown",
   "id": "5e4e8b21-8dfb-477c-9078-692236a62ce1",
   "metadata": {},
   "source": [
    "### c)\tSe tentarmos utilizar somente a Quilometragem para prever o valor do Preço, o quanto da variação do Preço a variável Quilometragem consegue explicar? Em outas palavras, interpretar o R2 da regressão linear do Preço em função da Quilometragem "
   ]
  },
  {
   "cell_type": "code",
   "execution_count": 78,
   "id": "ef666aeb-ade7-4e82-8601-fee6d14ed972",
   "metadata": {},
   "outputs": [],
   "source": [
    "regressao = stats.linregress(df_locacao['Preco'], df_locacao['Quilometragem'])"
   ]
  },
  {
   "cell_type": "code",
   "execution_count": 79,
   "id": "59e62cf2-6919-41de-9bdb-96d2ccea1040",
   "metadata": {},
   "outputs": [
    {
     "data": {
      "text/plain": [
       "0.677585943921125"
      ]
     },
     "execution_count": 79,
     "metadata": {},
     "output_type": "execute_result"
    }
   ],
   "source": [
    "regressao.rvalue**2"
   ]
  },
  {
   "cell_type": "code",
   "execution_count": null,
   "id": "9e7e3bb0-92ec-4ffd-ae9b-57ec0cd8ea99",
   "metadata": {},
   "outputs": [],
   "source": []
  }
 ],
 "metadata": {
  "kernelspec": {
   "display_name": "Python 3 (ipykernel)",
   "language": "python",
   "name": "python3"
  },
  "language_info": {
   "codemirror_mode": {
    "name": "ipython",
    "version": 3
   },
   "file_extension": ".py",
   "mimetype": "text/x-python",
   "name": "python",
   "nbconvert_exporter": "python",
   "pygments_lexer": "ipython3",
   "version": "3.8.10"
  }
 },
 "nbformat": 4,
 "nbformat_minor": 5
}
